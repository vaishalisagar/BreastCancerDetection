{
 "cells": [
  {
   "cell_type": "markdown",
   "id": "6abb69f4",
   "metadata": {},
   "source": [
    "# Breast Cancer Detection Using Machine Learning"
   ]
  },
  {
   "cell_type": "markdown",
   "id": "02f1edcd",
   "metadata": {},
   "source": [
    "# Libraries for quick reference\n",
    "### Pandas : \n",
    "1. Used for data manipluation\n",
    "2. Some common functions used in pandas : read_csv(), dataframe(), rank(), sort(), etc\n",
    "3. Refer to Pandas Cheatsheet : https://www.datacamp.com/cheat-sheet/pandas-cheat-sheet-for-data-science-in-python\n",
    "\n",
    "### Scikit-learn :\n",
    "1. Scikit-learn (Sklearn): useful and robust library for machine learning.\n",
    "2. It provides a selection of machine learning: classification, regression, clustering and dimensionality. All you have to do is to import the algorithm in-built function\n",
    "3. Refer to SKlearn documentation : https://scikit-learn.org/stable/user_guide.html\n",
    "\n",
    "### Pickle :\n",
    "1. Pickle : Used in deployment of the model in serializing and deserializing a Python object structure. \n",
    "2. It converts a Python object into a byte stream to store it in a file/database, maintain program state across sessions, or transport data over the network\n",
    "3. Refer to python documentation for functions used : https://docs.python.org/3/library/pickle.html"
   ]
  },
  {
   "cell_type": "code",
   "execution_count": 2,
   "id": "42f4e006",
   "metadata": {},
   "outputs": [
    {
     "name": "stdout",
     "output_type": "stream",
     "text": [
      "0.8910369068541301\n"
     ]
    }
   ],
   "source": [
    "#importing the libraries \n",
    "import pandas as pd                                          #Importing the pandas library as pd abbreviation/alias\n",
    "from sklearn.linear_model import LogisticRegression          #Using the Scikit-learn library, pulling the linear model class and further calling the LogisticRegression function\n",
    "                                                             #LogisticRegression is the ML agorithm (all the mathematics calculation involved in the algorithm is packaged in this function and we are just calling it)\n",
    "                                                             \n",
    "from sklearn.metrics import accuracy_score                   #calling the metric class from scikit learn and importing the accuracy_score function\n",
    "import pickle\n",
    "\n",
    "#Reading the data using pandas read function\n",
    "df = pd.read_csv('breast_cancer_detection.csv')              #based on the file type csv,txt, xlsx, etc appropriate function can be called for reading the data.\n",
    "                                                             #Data is stored in a dataframe which is form of tables (rows & cols)\n",
    "\n",
    "X = df.iloc[:,1:len(df.columns)]                             #iloc is a pandas function which helps in selecting the specific/all rows, columns from a datframe\n",
    "                                                             #X is an object which contains all the independent variables needed for the model (all rows but contains columns starting from 1 index)                                                     \n",
    "                                                             #REMEMBER: iloc and loc are different function, refer this to recall #https://pandas.pydata.org/docs/reference/api/pandas.DataFrame.iloc.html\n",
    "\n",
    "y = df.iloc[:,0]                                             #Synatx meaning - index both axis, all rows and 0th location column\n",
    "                                                             #Y is the dependent/ target variable (which will be predicted)\n",
    "\n",
    "model = LogisticRegression(max_iter=800)                     \n",
    "                                                             #Logistic Regression () gives binary output. maximum iterations taken for solver to converge\n",
    "                                                             #model is an object/classifier which will store either 0 or 1 value\n",
    "    \n",
    "model.fit(X,y)                                               #how well the values of dependent and independent fits the logistic regression model\n",
    "\n",
    "predictions = model.predict(X)                               #assigning the model predicted values to predictions object. \n",
    "print(accuracy_score(y,predictions))                         #comparing the actual target variable values with the prediciton made by the model and printing the accuracy score. Values lies between 0-1\n",
    "\n",
    "\n",
    "pickle_out = open('classifier', mode='wb')                   #opening/reading the classifier file (produce on running the model) in write and binary mode\n",
    "pickle.dump(model, pickle_out)                               #converting the model objecte created and converting into byte stream and loading in destination (pickle_out)\n",
    "pickle_out.close()                                           #closing the python object we created"
   ]
  },
  {
   "cell_type": "code",
   "execution_count": 3,
   "id": "ff22aebe",
   "metadata": {},
   "outputs": [
    {
     "name": "stdout",
     "output_type": "stream",
     "text": [
      "Overwriting app.py\n"
     ]
    }
   ],
   "source": [
    "%%writefile app.py\n",
    "\n",
    "import pickle\n",
    "import streamlit as st\n",
    "\n",
    "pickle_in = open('classifier', 'rb')\n",
    "classifier = pickle.load(pickle_in)\n",
    "\n",
    "@st.cache()\n",
    "\n",
    "# Define the function which will make the prediction using data\n",
    "# inputs from users\n",
    "def prediction(radius, texture,smoothness, concave_points, symmetry):\n",
    "    \n",
    "    # Make predictions\n",
    "    prediction = classifier.predict(\n",
    "        [[radius, texture,smoothness, concave_points, symmetry]])\n",
    "    \n",
    "    if prediction == 0:\n",
    "        pred = 'Congratulation you are fit and do NOT have Breast Cancer'\n",
    "    else:\n",
    "        pred = 'PLEASE SEE A DOCTOR!  You are likely to have Breast Cancer!'\n",
    "    return pred\n",
    "\n",
    "# This is the main function in which we define our webpage\n",
    "def main():\n",
    "    \n",
    "    # Create input fields\n",
    "    radius = st.number_input(\"Radius of detected growth\",\n",
    "                                  min_value=0.000,\n",
    "                                  max_value=5.000,\n",
    "                                  value=0.000,\n",
    "                                  step=0.005,\n",
    "                                     )\n",
    "    \n",
    "    texture = st.number_input(\"Measure of growth texture\",\n",
    "                              min_value=10.00,\n",
    "                              max_value=60.00,\n",
    "                              value=10.00,\n",
    "                              step=5.00\n",
    "                             )\n",
    "\n",
    "    smoothness = st.number_input(\"Measure of growth smoothness\",\n",
    "                              min_value=0.050,\n",
    "                              max_value=1.000,\n",
    "                              value=0.050,\n",
    "                              step=0.002\n",
    "                             )\n",
    "    concave_points = st.number_input(\"number of concave indentations observed along the border of the growth\",\n",
    "                          min_value=0.000,\n",
    "                          max_value=0.400,\n",
    "                          value=0.000,\n",
    "                          step=0.001\n",
    "                         )\n",
    "    symmetry = st.number_input(\"Measure of how symmetric the growth is\",\n",
    "                          min_value=0.000,\n",
    "                          max_value=2.00,\n",
    "                          value=0.000,\n",
    "                          step=0.001\n",
    "                         )\n",
    "\n",
    "    result = \"\"\n",
    "    \n",
    "    # When 'Predict' is clicked, make the prediction and store it\n",
    "    if st.button(\"Predict\"):\n",
    "        result = prediction(radius, texture, smoothness, concave_points, symmetry)\n",
    "        st.success(result)\n",
    "        \n",
    "if __name__=='__main__':\n",
    "    main()\n",
    "    "
   ]
  },
  {
   "cell_type": "code",
   "execution_count": 4,
   "id": "5522e88b",
   "metadata": {},
   "outputs": [
    {
     "name": "stdout",
     "output_type": "stream",
     "text": [
      "^C\n"
     ]
    }
   ],
   "source": [
    "!streamlit run app.py"
   ]
  },
  {
   "cell_type": "code",
   "execution_count": null,
   "id": "f991c818",
   "metadata": {},
   "outputs": [],
   "source": []
  }
 ],
 "metadata": {
  "kernelspec": {
   "display_name": "Python 3 (ipykernel)",
   "language": "python",
   "name": "python3"
  },
  "language_info": {
   "codemirror_mode": {
    "name": "ipython",
    "version": 3
   },
   "file_extension": ".py",
   "mimetype": "text/x-python",
   "name": "python",
   "nbconvert_exporter": "python",
   "pygments_lexer": "ipython3",
   "version": "3.9.12"
  }
 },
 "nbformat": 4,
 "nbformat_minor": 5
}
