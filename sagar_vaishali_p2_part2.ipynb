{
 "cells": [
  {
   "cell_type": "markdown",
   "id": "094f1649",
   "metadata": {},
   "source": [
    "<html>\n",
    "<body>\n",
    "\n",
    "   \n",
    " <h1 style=\"background-color: Pink ; \"> 1. Problem Background </h1>\n",
    "   \n",
    " <h1 style= \"text-align: center; \">      Breast Cancer Detection </h1>\n",
    "    \n",
    "<img src=\"https://encrypted-tbn0.gstatic.com/images?q=tbn:ANd9GcQGfb5DY2BqLxdgmsCabjB7Jk8DP7wVcfafvQ&usqp=CAU\">   \n",
    "    \n",
    "<h2 style=\"background-color:powderblue;\"> 1.1 What is Breast Cancer? </h2> <br>\n",
    "Breast cancer is a type of cancer that starts in the breast. It can start in one or both breasts. Cancer starts when cells begin to grow out of control.**Breast cancer occurs almost entirely in women, but men can get breast cancer, too.** \n",
    "\n",
    "Each year in the United States, about 264,000 cases of breast cancer are diagnosed in women and about 2,400 in men. About 42,000 women and 500 men in the U.S. die each year from breast cancer. \n",
    "\n",
    "To learn more about how cancers start and spread, refer to the \n",
    "    \n",
    ">- [More details on Breat Cancer](https://www.cancer.org/cancer/breast-cancer/about/what-is-breast-cancer.html)\n",
    ">- [Historic Statistics](https://www.cdc.gov/cancer/breast/statistics/index.htm)    \n",
    "\n",
    "\n",
    "<img src=\"https://34p2k13bwwzx12bgy13rwq8p-wpengine.netdna-ssl.com/wp-content/uploads/2015/02/1-in-2-620x348.png\"/>\n",
    "       \n",
    "<h2 style=\"background-color:powderblue;\"> 1.2 Importance of the Analysis </h2>\n",
    "\n",
    "Breast cancer is the second leading cause of cancer death in women.**The chance that a woman will die from breast cancer is about 1 in 39**. The map below shows the impact of breast cancer gloablly.\n",
    "    \n",
    "<img src=\"https://www.uicc.org/sites/main/files/thumbnails/image/Breast-cancer-graph-top-cancer-per-country-new-cases-2020-female-web.png_0.png\">\n",
    "    \n",
    "\n",
    "Clearly, there is work to do in addressing this problem. **Few analysis that could potentially be helpful to the cause is the use of Machine Learning techniques are**: <br>\n",
    "    \n",
    ">- To predict the cancer cases in early stage  <br>\n",
    ">- Scaling up the information processing and increasing the accuracy of the clinical decision-making\n",
    ">- Clustering the similar habits/traits individual causing the cancer\n",
    "    \n",
    "<img src=\"https://magellanhealthinsights.com/wp-content/uploads/2017/10/Breast-Cancer-Awareness-Month.png\">\n",
    "<h2 style=\"background-color:powderblue;\"> 1.3 Questions To Think About: </h2>\n",
    "\n",
    ">- What is the importance of the output generated and what are going to do with the output?\n",
    ">- How can citizens be benefited from this prediction? Is there any tie up with any healthcare service provider? \n",
    ">- Who is interested in what we are doing? \n",
    ">- The data includes sensitive information, what is the source of the dataset?\n",
    ">- What is accountability for the incorrect prediciton? Are there any legal repercussions? \n",
    "\n",
    "</body>\n",
    "</html>\n",
    "            "
   ]
  },
  {
   "cell_type": "markdown",
   "id": "5c84859d",
   "metadata": {},
   "source": [
    "<h1 style=\"background-color:Pink;\">2. Getting Data & Preparing </h1>"
   ]
  },
  {
   "cell_type": "markdown",
   "id": "8975f2e4",
   "metadata": {},
   "source": [
    "<h2 style=\"background-color:powderblue;\"> 2.1 Importing the Libraries </h2>\n",
    "\n",
    "The purpose of importing the python libraries is to call functions that are not part of your main program. Since python is an open source object oriented language, code can be reused and imported in your porgram.\n",
    " \n",
    "\n",
    "### Pandas : \n",
    "1. Used for data manipluation\n",
    "2. Some common functions used in pandas : read_csv(), dataframe(), rank(), sort(), etc\n",
    "3. Refer to Pandas Cheatsheet : https://www.datacamp.com/cheat-sheet/pandas-cheat-sheet-for-data-science-in-python\n",
    "\n",
    "### Scikit-learn :\n",
    "1. Scikit-learn (Sklearn): useful and robust library for machine learning.\n",
    "2. It provides a selection of machine learning: classification, regression, clustering and dimensionality. All you have to do is to import the algorithm in-built function\n",
    "3. Refer to SKlearn documentation : https://scikit-learn.org/stable/user_guide.html\n",
    "\n",
    "### Pickle :\n",
    "1. Pickle : Used in deployment of the model in serializing and deserializing a Python object structure. \n",
    "2. It converts a Python object into a byte stream to store it in a file/database, maintain program state across sessions, or transport data over the network\n",
    "3. Refer to python documentation for functions used : https://docs.python.org/3/library/pickle.html"
   ]
  },
  {
   "cell_type": "code",
   "execution_count": 3,
   "id": "42f4e006",
   "metadata": {},
   "outputs": [],
   "source": [
    "#importing the libraries \n",
    "import pandas as pd                                          #Importing the pandas library as pd abbreviation/alias\n",
    "from sklearn.linear_model import LogisticRegression          #Using the Scikit-learn library, pulling the linear model class and further calling the LogisticRegression function\n",
    "                                                             #LogisticRegression is the ML agorithm (all the mathematics calculation involved in the algorithm is packaged in this function and we are just calling it)\n",
    "                                                             \n",
    "from sklearn.metrics import accuracy_score                   #calling the metric class from scikit learn and importing the accuracy_score function\n",
    "import pickle                                                #Importing pickle\n"
   ]
  },
  {
   "cell_type": "markdown",
   "id": "8c3c9798",
   "metadata": {},
   "source": [
    "<h2 style=\"background-color:powderblue;\"> 2.2 Reading the data </h2> \n",
    "\n",
    ">- read_csv() : reading the csv file using pandas library. You can use read_excel if the source file is excel. \n",
    ">- Link for reading multiple types of input files https://pandas.pydata.org/docs/reference/api/pandas.read_excel.html\n",
    ">- Note: Shift+Tab to look at the parameters any function can take/documentation"
   ]
  },
  {
   "cell_type": "code",
   "execution_count": 4,
   "id": "036bcc13",
   "metadata": {},
   "outputs": [],
   "source": [
    "#Reading the data using pandas read function\n",
    "df = pd.read_csv('breast_cancer_detection.csv')              #based on the file type csv,txt, xlsx, etc appropriate function can be called for reading the data.\n",
    "                                                             #Data is stored in a dataframe which is form of tables (rows & cols)"
   ]
  },
  {
   "cell_type": "markdown",
   "id": "8683b9bd",
   "metadata": {},
   "source": [
    "<h2 style=\"background-color:powderblue;\">2.3 Know your Data/ Descriptive Analysis </h2> \n",
    "\n",
    "\n",
    "Descriptive Analysis refer to the exploring the data through various statistcal and analytical measures. There are some common steps followed during any analysis however, may differ data to data. Keep following in mind:\n",
    "\n",
    "- Data Types & Definitions : what is the business aspect of the field name. Whether it is numeric or categorical\n",
    "- Explore your data : Look at the summary of the data (mean, medium, SD, Variance, etc)\n",
    "- Missing Value & Outlier Detection \n",
    "- Missing value imputation: Drop/Replace\n",
    "- Correlation amongst the dependent variables/ Exisiting Pattern \n",
    "- Identification of the predictors for the model : Making sure that it is actionable and the stakeholder cana ctually ammend it\n",
    "- Splitting the data into training and testing and build the classifier"
   ]
  },
  {
   "cell_type": "code",
   "execution_count": 5,
   "id": "1c692278",
   "metadata": {},
   "outputs": [],
   "source": [
    "X = df.iloc[:,1:len(df.columns)]                             #iloc is a pandas function which helps in selecting the specific/all rows, columns from a datframe\n",
    "                                                             #X is an object which contains all the independent variables needed for the model (all rows but contains columns starting from 1 index)                                                     \n",
    "                                                             #REMEMBER: iloc and loc are different function, refer this to recall #https://pandas.pydata.org/docs/reference/api/pandas.DataFrame.iloc.html\n",
    "\n",
    "y = df.iloc[:,0]                                             #Synatx meaning - index both axis, all rows and 0th location column\n",
    "                                                             #Y is the dependent/ target variable (which will be predicted)"
   ]
  },
  {
   "cell_type": "markdown",
   "id": "4681d7f7",
   "metadata": {},
   "source": [
    "\n",
    "<html>\n",
    "<body>\n",
    "<h1 style=\"background-color:Pink;\">3. Data Modeling using ML </h1>\n",
    "\n",
    "It is extremely crutial to convert the business problem into the **right** analytical problem. Lack of understanding can lead to no or incorrect results. <br>\n",
    "\n",
    "**Key pointers to remember before building the model:**\n",
    ">- Keep the end business goal clear\n",
    ">- Understand the nature of the problem - Supervised or Unsupervised. Whether I need to make prediction of a continuous variable or just categorize them.\n",
    ">- Don't forget to ask, is my data ready for modelling! Poor data preparation can fetch results that make no sense to the business. \n",
    ">-Based on the nature of the problem, refer to the following cheat sheet. \n",
    "<img src=\"https://scikit-learn.org/stable/_static/ml_map.png\"/>\n",
    "          \n",
    "\n",
    "<h2 style=\"background-color:powderblue;\">3.1 Creating a machine learning classifier and fitting the model using the predictors and target variable as the input  </h2> \n",
    "\n",
    "</body>\n",
    "</html>\n"
   ]
  },
  {
   "cell_type": "code",
   "execution_count": 6,
   "id": "23b84862",
   "metadata": {},
   "outputs": [
    {
     "data": {
      "text/plain": [
       "LogisticRegression(max_iter=800)"
      ]
     },
     "execution_count": 6,
     "metadata": {},
     "output_type": "execute_result"
    }
   ],
   "source": [
    "model = LogisticRegression(max_iter=800)                     \n",
    "                                                             #Logistic Regression () gives binary output. maximum iterations taken for solver to converge\n",
    "                                                             #model is an object/classifier which will store either 0 or 1 value\n",
    "    \n",
    "model.fit(X,y)                                               #how well the values of dependent and independent fits the logistic regression model\n",
    "\n"
   ]
  },
  {
   "cell_type": "markdown",
   "id": "5fd9579a",
   "metadata": {},
   "source": [
    "<h2 style=\"background-color:powderblue;\">3.2 Once the model is trained, time to predict to the target variable and compare the accurary\n",
    "</h2> \n",
    "\n",
    ">- Prediction of model is irrelavent of the algorithm used to train the model. However, predict function will always take single argument (target variable)\n",
    ">- There are various metrics based on the problem that can be used for measuring the model \n",
    "    -- https://scikit-learn.org/stable/modules/model_evaluation.html\n",
    "    \n",
    "**Questions to ponder:**\n",
    ">- What is the criteria to measure the correctness of the model? Is there any existing criteria that the stakeholders use?\n",
    ">- Is there a need to compare multiple models and how to select the best model?\n",
    ">- Do I have sufficient inferences from the data to back my analysis?\n"
   ]
  },
  {
   "cell_type": "code",
   "execution_count": 7,
   "id": "11a6fbae",
   "metadata": {},
   "outputs": [
    {
     "name": "stdout",
     "output_type": "stream",
     "text": [
      "0.8910369068541301\n"
     ]
    }
   ],
   "source": [
    "predictions = model.predict(X)                               #assigning the model predicted values to predictions object. \n",
    "print(accuracy_score(y,predictions))                         #comparing the actual target variable values with the prediciton made by the model and printing the accuracy score. Values lies between 0-1"
   ]
  },
  {
   "cell_type": "markdown",
   "id": "5a803b30",
   "metadata": {},
   "source": [
    "# <h1 style=\"background-color:Pink;\">4. Model Deployment</h1>  \n"
   ]
  },
  {
   "cell_type": "markdown",
   "id": "97b8f922",
   "metadata": {},
   "source": [
    "<h2 style=\"background-color:powderblue;\"> 4.1 Using Pickle library to conver Python object into a byte stream  </h2> \n",
    "\n",
    "**some useful functions**   \n",
    "- pickle_out is a new object that allows to WRITE BINARY (wb) to a new file called 'classifier'<br>\n",
    "once complete, we'll find this new file in the same folder as our Jupyter Notebook\n",
    "\n",
    "- pickle.dump() translates our model functionality (defined above) into binary and loads it into the pickle_out object...which, by extension, dumps everything into the new file \"classifier\"<br>\n",
    "\n",
    "- pickle_out.close() is simply shutting down the pickle operation."
   ]
  },
  {
   "cell_type": "code",
   "execution_count": 8,
   "id": "72484d27",
   "metadata": {},
   "outputs": [],
   "source": [
    "pickle_out = open('classifier', mode='wb')                   #opening/reading the classifier file (produce on running the model) in write and binary mode\n",
    "pickle.dump(model, pickle_out)                               #converting the model objecte created and converting into byte stream and loading in destination (pickle_out)\n",
    "pickle_out.close()                                           #closing the python object we created"
   ]
  },
  {
   "cell_type": "markdown",
   "id": "6f07d062",
   "metadata": {},
   "source": [
    "## <h2 style=\"background-color:powderblue;\">  4.2  Using Streamlit for deploying the model </h2>\n",
    "\n",
    "Streamlit is an open source app framework in Python language which helps in creating web apps for machine learning model quickly "
   ]
  },
  {
   "cell_type": "code",
   "execution_count": 9,
   "id": "ff22aebe",
   "metadata": {},
   "outputs": [
    {
     "name": "stdout",
     "output_type": "stream",
     "text": [
      "Overwriting app.py\n"
     ]
    }
   ],
   "source": [
    "%%writefile app.py\n",
    "\n",
    "import pickle\n",
    "import streamlit as st\n",
    "\n",
    "pickle_in = open('classifier', 'rb')\n",
    "classifier = pickle.load(pickle_in)\n",
    "\n",
    "@st.cache()\n",
    "\n",
    "# Define the function which will make the prediction using data\n",
    "# inputs from users\n",
    "def prediction(radius, texture,smoothness, concave_points, symmetry):\n",
    "    \n",
    "    # Make predictions\n",
    "    prediction = classifier.predict(\n",
    "        [[radius, texture,smoothness, concave_points, symmetry]])\n",
    "    \n",
    "    if prediction == 0:\n",
    "        pred = 'Congratulation you are fit and do NOT have Breast Cancer'\n",
    "    else:\n",
    "        pred = 'PLEASE SEE A DOCTOR!  You are likely to have Breast Cancer!'\n",
    "    return pred\n",
    "\n",
    "# This is the main function in which we define our webpage\n",
    "def main():\n",
    "    \n",
    "    # Create input fields\n",
    "    radius = st.number_input(\"Radius of detected growth\",\n",
    "                                  min_value=0.000,\n",
    "                                  max_value=5.000,\n",
    "                                  value=0.000,\n",
    "                                  step=0.005,\n",
    "                                     )\n",
    "    \n",
    "    texture = st.number_input(\"Measure of growth texture\",\n",
    "                              min_value=10.00,\n",
    "                              max_value=60.00,\n",
    "                              value=10.00,\n",
    "                              step=5.00\n",
    "                             )\n",
    "\n",
    "    smoothness = st.number_input(\"Measure of growth smoothness\",\n",
    "                              min_value=0.050,\n",
    "                              max_value=1.000,\n",
    "                              value=0.050,\n",
    "                              step=0.002\n",
    "                             )\n",
    "    concave_points = st.number_input(\"number of concave indentations observed along the border of the growth\",\n",
    "                          min_value=0.000,\n",
    "                          max_value=0.400,\n",
    "                          value=0.000,\n",
    "                          step=0.001\n",
    "                         )\n",
    "    symmetry = st.number_input(\"Measure of how symmetric the growth is\",\n",
    "                          min_value=0.000,\n",
    "                          max_value=2.00,\n",
    "                          value=0.000,\n",
    "                          step=0.001\n",
    "                         )\n",
    "\n",
    "    result = \"\"\n",
    "    \n",
    "    # When 'Predict' is clicked, make the prediction and store it\n",
    "    if st.button(\"Predict\"):\n",
    "        result = prediction(radius, texture, smoothness, concave_points, symmetry)\n",
    "        st.success(result)\n",
    "        \n",
    "if __name__=='__main__':\n",
    "    main()\n",
    "    "
   ]
  },
  {
   "cell_type": "code",
   "execution_count": null,
   "id": "5522e88b",
   "metadata": {},
   "outputs": [],
   "source": [
    "#running the application\n",
    "!streamlit run app.py"
   ]
  }
 ],
 "metadata": {
  "kernelspec": {
   "display_name": "Python 3 (ipykernel)",
   "language": "python",
   "name": "python3"
  },
  "language_info": {
   "codemirror_mode": {
    "name": "ipython",
    "version": 3
   },
   "file_extension": ".py",
   "mimetype": "text/x-python",
   "name": "python",
   "nbconvert_exporter": "python",
   "pygments_lexer": "ipython3",
   "version": "3.9.12"
  }
 },
 "nbformat": 4,
 "nbformat_minor": 5
}
